{
 "cells": [
  {
   "cell_type": "markdown",
   "source": [
    "The Variables\r\n",
    "\r\n",
    "Variables have a place to store data that is mutable (its value can change). The data itself is a value that is stored in a certain variable that has a type."
   ],
   "metadata": {}
  },
  {
   "cell_type": "markdown",
   "source": [
    "Variables in python can be created with this format"
   ],
   "metadata": {}
  },
  {
   "cell_type": "code",
   "execution_count": 3,
   "source": [
    "x = 5"
   ],
   "outputs": [
    {
     "output_type": "stream",
     "name": "stdout",
     "text": [
      "5\n"
     ]
    }
   ],
   "metadata": {}
  },
  {
   "cell_type": "markdown",
   "source": [
    "X is the variable and 5 is the data stored in the variable X. To view the contents of the variable, we can use the print function"
   ],
   "metadata": {}
  },
  {
   "cell_type": "code",
   "execution_count": null,
   "source": [
    "print(x)"
   ],
   "outputs": [],
   "metadata": {}
  },
  {
   "cell_type": "markdown",
   "source": [
    "Variable creation in python has rules that must be obeyed. the following are the rules for writing variables\r\n",
    "1. Variable names can start with letters/underscores (_), for example: x, X, _x, _X\r\n",
    "2. Subsequent characters can be letters, underscores (_) or numbers, for example: x1, Xa, X_\r\n",
    "3. Characters in variable names are case sensitive, meaning that the lowercase and uppercase letters are different. Example: x and X are different\r\n",
    "4. Variable names cannot use keywords that already exist in python"
   ],
   "metadata": {}
  },
  {
   "cell_type": "code",
   "execution_count": 5,
   "source": [
    "_x = 1\r\n",
    "x = 1\r\n",
    "_X = 1\r\n",
    "X = 1\r\n",
    "\r\n",
    "x1 = 1\r\n",
    "xa = 1\r\n",
    "X1 = 1\r\n",
    "X_ = 1"
   ],
   "outputs": [],
   "metadata": {}
  },
  {
   "cell_type": "markdown",
   "source": [
    "When a variable that we created earlier is no longer needed, then we can delete it with the del() function."
   ],
   "metadata": {}
  },
  {
   "cell_type": "code",
   "execution_count": 8,
   "source": [
    "del(X)"
   ],
   "outputs": [],
   "metadata": {}
  },
  {
   "cell_type": "code",
   "execution_count": 9,
   "source": [
    "print(X)"
   ],
   "outputs": [
    {
     "output_type": "error",
     "ename": "NameError",
     "evalue": "name 'X' is not defined",
     "traceback": [
      "\u001b[1;31m---------------------------------------------------------------------------\u001b[0m",
      "\u001b[1;31mNameError\u001b[0m                                 Traceback (most recent call last)",
      "\u001b[1;32m<ipython-input-9-fa0134f942c4>\u001b[0m in \u001b[0;36m<module>\u001b[1;34m\u001b[0m\n\u001b[1;32m----> 1\u001b[1;33m \u001b[0mprint\u001b[0m\u001b[1;33m(\u001b[0m\u001b[0mX\u001b[0m\u001b[1;33m)\u001b[0m\u001b[1;33m\u001b[0m\u001b[1;33m\u001b[0m\u001b[0m\n\u001b[0m",
      "\u001b[1;31mNameError\u001b[0m: name 'X' is not defined"
     ]
    }
   ],
   "metadata": {}
  },
  {
   "cell_type": "markdown",
   "source": [
    "variable X no longer exists, therefore the program will error. In the last command, we will get \"NameError\". This means that the variable that does not exist in the memory alias has been deleted."
   ],
   "metadata": {}
  },
  {
   "cell_type": "markdown",
   "source": [
    "Data Type\r\n",
    "\r\n",
    "The first way to fill in a variable is to identify the type of data to be filled. for example, if the variable will be filled with text data, the data will be formatted (\"\"), whereas if the variable will be filled with numeric data, the desired number can be written directly. Python will automatically recognize the type of data or the type of data stored in a variable. as an example,"
   ],
   "metadata": {}
  },
  {
   "cell_type": "code",
   "execution_count": 12,
   "source": [
    "_string = \"Nilai String\"\r\n",
    "_angka = 1\r\n",
    "\r\n",
    "print(_string)\r\n",
    "print(_angka)"
   ],
   "outputs": [
    {
     "output_type": "stream",
     "name": "stdout",
     "text": [
      "Nilai String\n",
      "1\n"
     ]
    }
   ],
   "metadata": {}
  },
  {
   "cell_type": "markdown",
   "source": [
    "so that we know more about the data type of a variable, we can use the type() function."
   ],
   "metadata": {}
  },
  {
   "cell_type": "code",
   "execution_count": 15,
   "source": [
    "# type(_string)\r\n",
    "type(_angka)"
   ],
   "outputs": [
    {
     "output_type": "execute_result",
     "data": {
      "text/plain": [
       "int"
      ]
     },
     "metadata": {},
     "execution_count": 15
    }
   ],
   "metadata": {}
  },
  {
   "cell_type": "markdown",
   "source": [
    "Types of Data Types\r\n",
    "In general, data types in python are divided into three types:\r\n",
    "1. Number data type\r\n",
    "2. Text data type\r\n",
    "3. The data type is bool"
   ],
   "metadata": {}
  },
  {
   "cell_type": "markdown",
   "source": [
    "Number Data Type\r\n",
    "Number data types are divided into:\r\n",
    "1. data type int (Integer): integer, eg 1, 2, 3, etc.\r\n",
    "2. float data type: fractional number, for example 1.5, 2.5, 3.5, etc.\r\n",
    "\r\n",
    "Example:"
   ],
   "metadata": {}
  },
  {
   "cell_type": "code",
   "execution_count": 17,
   "source": [
    "tipe_integer = 110 #tipe int\r\n",
    "tipe_float = 11.2 #float\r\n",
    "tipe_float2 = 2e3 #float 3000.0, huruf e artinya eksponen 10"
   ],
   "outputs": [
    {
     "output_type": "stream",
     "name": "stdout",
     "text": [
      "2000.0\n"
     ]
    }
   ],
   "metadata": {}
  },
  {
   "cell_type": "markdown",
   "source": [
    "Text data types\r\n",
    "Text data types are divided into several types:\r\n",
    "1. Char data type: Character, for example, 'R'.\r\n",
    "1. String data type: A set of characters, for example, \"I'm eating\".\r\n",
    "Writing text data types must be enclosed in quotation marks. Can use single quotes ('...'), double (\"...\"), and triple ('''...''' or \"\"...\"\"\").\r\n",
    "\r\n",
    "Example:"
   ],
   "metadata": {}
  },
  {
   "cell_type": "code",
   "execution_count": 18,
   "source": [
    "nama = \"aku makan\"\r\n",
    "kelamin = 'L'\r\n",
    "alamat = \"\"\"Karangpilang 60221\"\"\""
   ],
   "outputs": [
    {
     "output_type": "stream",
     "name": "stdout",
     "text": [
      "Karangpilang 60221\n"
     ]
    }
   ],
   "metadata": {}
  },
  {
   "cell_type": "markdown",
   "source": [
    "Boolean data type\r\n",
    "The boolean data type is a data type that only has two values, namely True and False or 0 and 1. Writing True and False, the first letter must be capitalized and without quotes."
   ],
   "metadata": {}
  },
  {
   "cell_type": "code",
   "execution_count": null,
   "source": [
    "ryan = True\r\n",
    "ismi = False\r\n",
    "agree = 1 #tipe int tetapi bisa juga menjadi tipe bool\r\n",
    "disagree = 0"
   ],
   "outputs": [],
   "metadata": {}
  }
 ],
 "metadata": {
  "orig_nbformat": 4,
  "language_info": {
   "name": "python",
   "version": "3.8.8",
   "mimetype": "text/x-python",
   "codemirror_mode": {
    "name": "ipython",
    "version": 3
   },
   "pygments_lexer": "ipython3",
   "nbconvert_exporter": "python",
   "file_extension": ".py"
  },
  "kernelspec": {
   "name": "python3",
   "display_name": "Python 3.8.8 64-bit ('tensorflow': conda)"
  },
  "interpreter": {
   "hash": "abc5b91c3c2038cc2751131831de32df55466421f0e9ffb98c25c0be35392502"
  }
 },
 "nbformat": 4,
 "nbformat_minor": 2
}